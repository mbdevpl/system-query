{
 "cells": [
  {
   "cell_type": "code",
   "execution_count": 1,
   "metadata": {},
   "outputs": [],
   "source": [
    "import system_query"
   ]
  },
  {
   "cell_type": "code",
   "execution_count": 2,
   "metadata": {},
   "outputs": [
    {
     "data": {
      "text/plain": [
       "{'host': 'hostname',\n",
       " 'os': 'Linux-6.8.0-47-generic-x86_64-with-glibc2.35',\n",
       " 'cpu': {'brand': 'Intel(R) Core(TM) i7-9750H CPU @ 2.60GHz',\n",
       "  'logical_cores': 12,\n",
       "  'physical_cores': 6,\n",
       "  'clock': 4131.882833333333,\n",
       "  'clock_min': 800.0,\n",
       "  'clock_max': 4500.0,\n",
       "  'cache': {1: 196608, 2: 1572864, 3: 12582912}},\n",
       " 'gpus': [{'brand': 'NVIDIA GeForce RTX 2060',\n",
       "   'memory': 6214516736,\n",
       "   'memory_clock': 7001000,\n",
       "   'compute_capability': 7.5,\n",
       "   'clock': 1200000,\n",
       "   'multiprocessors': 30,\n",
       "   'cores': None,\n",
       "   'warp_size': 32}],\n",
       " 'ram': {'total': 16631603200},\n",
       " 'hdds': {'/dev/sdb': {'size': 0, 'model': '1081C'},\n",
       "  '/dev/sdc': {'size': 0, 'model': '1081C'},\n",
       "  '/dev/sda': {'size': 1953525168, 'model': 'WDC WD10SPZX-24Z'},\n",
       "  '/dev/nvme0n1': {'size': 2000409264, 'model': 'SAMSUNG MZVLB1T0HBLR-000L2'}},\n",
       " 'swap': {'total': 17179865088}}"
      ]
     },
     "execution_count": 2,
     "metadata": {},
     "output_type": "execute_result"
    }
   ],
   "source": [
    "system_query.query_all()"
   ]
  },
  {
   "cell_type": "code",
   "execution_count": 3,
   "metadata": {
    "scrolled": false
   },
   "outputs": [
    {
     "data": {
      "text/plain": [
       "{'brand': 'Intel(R) Core(TM) i7-9750H CPU @ 2.60GHz',\n",
       " 'logical_cores': 12,\n",
       " 'physical_cores': 6,\n",
       " 'clock': 4182.955000000001,\n",
       " 'clock_min': 800.0,\n",
       " 'clock_max': 4500.0,\n",
       " 'cache': {1: 196608, 2: 1572864, 3: 12582912}}"
      ]
     },
     "execution_count": 3,
     "metadata": {},
     "output_type": "execute_result"
    }
   ],
   "source": [
    "system_query.query_cpu()"
   ]
  },
  {
   "cell_type": "code",
   "execution_count": 4,
   "metadata": {
    "scrolled": false
   },
   "outputs": [
    {
     "data": {
      "text/plain": [
       "[{'brand': 'NVIDIA GeForce RTX 2060',\n",
       "  'memory': 6214516736,\n",
       "  'memory_clock': 7001000,\n",
       "  'compute_capability': 7.5,\n",
       "  'clock': 1200000,\n",
       "  'multiprocessors': 30,\n",
       "  'cores': None,\n",
       "  'warp_size': 32}]"
      ]
     },
     "execution_count": 4,
     "metadata": {},
     "output_type": "execute_result"
    }
   ],
   "source": [
    "system_query.query_gpus()"
   ]
  },
  {
   "cell_type": "code",
   "execution_count": 5,
   "metadata": {
    "scrolled": false
   },
   "outputs": [
    {
     "data": {
      "text/plain": [
       "{'/dev/sdb': {'size': 0, 'model': '1081C'},\n",
       " '/dev/sdc': {'size': 0, 'model': '1081C'},\n",
       " '/dev/sda': {'size': 1953525168, 'model': 'WDC WD10SPZX-24Z'},\n",
       " '/dev/nvme0n1': {'size': 2000409264, 'model': 'SAMSUNG MZVLB1T0HBLR-000L2'}}"
      ]
     },
     "execution_count": 5,
     "metadata": {},
     "output_type": "execute_result"
    }
   ],
   "source": [
    "system_query.query_hdds()"
   ]
  },
  {
   "cell_type": "code",
   "execution_count": 6,
   "metadata": {},
   "outputs": [
    {
     "data": {
      "text/plain": [
       "{'total': 16631603200}"
      ]
     },
     "execution_count": 6,
     "metadata": {},
     "output_type": "execute_result"
    }
   ],
   "source": [
    "system_query.query_ram()"
   ]
  },
  {
   "cell_type": "code",
   "execution_count": 7,
   "metadata": {},
   "outputs": [
    {
     "data": {
      "text/plain": [
       "{'total': 16631603200}"
      ]
     },
     "execution_count": 7,
     "metadata": {},
     "output_type": "execute_result"
    }
   ],
   "source": [
    "system_query.query_ram(sudo=False)"
   ]
  },
  {
   "cell_type": "code",
   "execution_count": 8,
   "metadata": {},
   "outputs": [
    {
     "data": {
      "text/plain": [
       "{'gcc': {'path': '/usr/bin/gcc',\n",
       "  'version': 'gcc (Ubuntu 11.4.0-1ubuntu1~22.04) 11.4.0'},\n",
       " 'g++': {'path': '/usr/bin/g++',\n",
       "  'version': 'g++ (Ubuntu 11.4.0-1ubuntu1~22.04) 11.4.0'},\n",
       " 'gfortran': {'path': '/usr/bin/gfortran',\n",
       "  'version': 'GNU Fortran (Ubuntu 11.4.0-1ubuntu1~22.04) 11.4.0'},\n",
       " 'clang': {'path': '/usr/bin/clang',\n",
       "  'version': 'Ubuntu clang version 14.0.0-1ubuntu1.1'},\n",
       " 'clang++': {'path': '/usr/bin/clang++',\n",
       "  'version': 'Ubuntu clang version 14.0.0-1ubuntu1.1'},\n",
       " 'python': {'path': '/home/user/Software/Spack/opt/spack/linux-ubuntu22.04-skylake/gcc-12.3.0/python-3.11.6-pkgqipsrm2re32eisko6o7xa2xnwwzyh/bin/python',\n",
       "  'version': 'Python 3.11.6',\n",
       "  'packages': {'ipython': {'version': 'ipython==8.26.0'},\n",
       "   'numpy': {'version': 'numpy @ file:///tmp/user/spack-stage/spack-stage-py-numpy-1.26.2-bpjavwbbxmsgiutvjzijlkjf5si5ki2v/spack-src'},\n",
       "   'pandas': {'version': 'pandas==1.5.3'},\n",
       "   'pycuda': {'version': 'pycuda==2024.1'},\n",
       "   'scipy': {'version': 'scipy==1.13.0'}}},\n",
       " 'python3': {'path': '/home/user/Software/Spack/opt/spack/linux-ubuntu22.04-skylake/gcc-12.3.0/python-3.11.6-pkgqipsrm2re32eisko6o7xa2xnwwzyh/bin/python3',\n",
       "  'version': 'Python 3.11.6',\n",
       "  'packages': {'ipython': {'version': 'ipython==8.26.0'},\n",
       "   'numpy': {'version': 'numpy @ file:///tmp/user/spack-stage/spack-stage-py-numpy-1.26.2-bpjavwbbxmsgiutvjzijlkjf5si5ki2v/spack-src'},\n",
       "   'pandas': {'version': 'pandas==1.5.3'},\n",
       "   'pycuda': {'version': 'pycuda==2024.1'},\n",
       "   'scipy': {'version': 'scipy==1.13.0'}}},\n",
       " 'python3.10': {'path': '/usr/bin/python3.10',\n",
       "  'version': 'Python 3.10.12',\n",
       "  'packages': {}},\n",
       " 'python3.11': {'path': '/home/user/Software/Spack/opt/spack/linux-ubuntu22.04-skylake/gcc-12.3.0/python-3.11.6-pkgqipsrm2re32eisko6o7xa2xnwwzyh/bin/python3.11',\n",
       "  'version': 'Python 3.11.6',\n",
       "  'packages': {'ipython': {'version': 'ipython==8.26.0'},\n",
       "   'numpy': {'version': 'numpy @ file:///tmp/user/spack-stage/spack-stage-py-numpy-1.26.2-bpjavwbbxmsgiutvjzijlkjf5si5ki2v/spack-src'},\n",
       "   'pandas': {'version': 'pandas==1.5.3'},\n",
       "   'pycuda': {'version': 'pycuda==2024.1'},\n",
       "   'scipy': {'version': 'scipy==1.13.0'}}},\n",
       " 'pip': {'path': '/home/user/Software/Spack/opt/spack/linux-ubuntu22.04-skylake/gcc-12.3.0/python-3.11.6-pkgqipsrm2re32eisko6o7xa2xnwwzyh/bin/pip',\n",
       "  'version': 'pip 24.2 from /home/user/Software/Spack/opt/spack/linux-ubuntu22.04-skylake/gcc-12.3.0/python-3.11.6-pkgqipsrm2re32eisko6o7xa2xnwwzyh/lib/python3.11/site-packages/pip (python 3.11)'},\n",
       " 'pip3': {'path': '/home/user/Software/Spack/opt/spack/linux-ubuntu22.04-skylake/gcc-12.3.0/python-3.11.6-pkgqipsrm2re32eisko6o7xa2xnwwzyh/bin/pip3',\n",
       "  'version': 'pip 24.2 from /home/user/Software/Spack/opt/spack/linux-ubuntu22.04-skylake/gcc-12.3.0/python-3.11.6-pkgqipsrm2re32eisko6o7xa2xnwwzyh/lib/python3.11/site-packages/pip (python 3.11)'},\n",
       " 'pip3.11': {'path': '/home/user/Software/Spack/opt/spack/linux-ubuntu22.04-skylake/gcc-12.3.0/python-3.11.6-pkgqipsrm2re32eisko6o7xa2xnwwzyh/bin/pip3.11',\n",
       "  'version': 'pip 24.2 from /home/user/Software/Spack/opt/spack/linux-ubuntu22.04-skylake/gcc-12.3.0/python-3.11.6-pkgqipsrm2re32eisko6o7xa2xnwwzyh/lib/python3.11/site-packages/pip (python 3.11)'},\n",
       " 'java': {'path': '/usr/lib/jvm/java-11-openjdk-amd64/bin/java',\n",
       "  'version': 'openjdk version \"11.0.24\" 2024-07-16'},\n",
       " 'ruby': {'path': '/usr/bin/ruby',\n",
       "  'version': 'ruby 3.0.2p107 (2021-07-07 revision 0db68f0233) [x86_64-linux-gnu]'},\n",
       " 'nvcc': {'path': '/usr/bin/nvcc',\n",
       "  'version': 'nvcc: NVIDIA (R) Cuda compiler driver'},\n",
       " 'spack': {'path': '/home/user/Software/Scripts/spack', 'version': None}}"
      ]
     },
     "execution_count": 8,
     "metadata": {},
     "output_type": "execute_result"
    }
   ],
   "source": [
    "system_query.query_software()"
   ]
  },
  {
   "cell_type": "code",
   "execution_count": 9,
   "metadata": {},
   "outputs": [
    {
     "data": {
      "text/plain": [
       "{'total': 17179865088}"
      ]
     },
     "execution_count": 9,
     "metadata": {},
     "output_type": "execute_result"
    }
   ],
   "source": [
    "system_query.query_swap()"
   ]
  },
  {
   "cell_type": "code",
   "execution_count": 10,
   "metadata": {},
   "outputs": [],
   "source": [
    "import pathlib"
   ]
  },
  {
   "cell_type": "code",
   "execution_count": 11,
   "metadata": {},
   "outputs": [],
   "source": [
    "system_query.query_and_export('all', 'json', pathlib.Path('/tmp/system_info.json'))"
   ]
  }
 ],
 "metadata": {
  "kernelspec": {
   "display_name": "Python 3 (ipykernel)",
   "language": "python",
   "name": "python3"
  },
  "language_info": {
   "codemirror_mode": {
    "name": "ipython",
    "version": 3
   },
   "file_extension": ".py",
   "mimetype": "text/x-python",
   "name": "python",
   "nbconvert_exporter": "python",
   "pygments_lexer": "ipython3",
   "version": "3.11.6"
  },
  "toc": {
   "base_numbering": 1,
   "nav_menu": {},
   "number_sections": true,
   "sideBar": true,
   "skip_h1_title": false,
   "title_cell": "Table of Contents",
   "title_sidebar": "Contents",
   "toc_cell": false,
   "toc_position": {},
   "toc_section_display": true,
   "toc_window_display": false
  }
 },
 "nbformat": 4,
 "nbformat_minor": 2
}
